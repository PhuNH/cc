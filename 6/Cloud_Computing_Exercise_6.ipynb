{
 "cells": [
  {
   "cell_type": "markdown",
   "metadata": {},
   "source": [
    "# Cloud Computing Exercise 6 (Trace Analysis)"
   ]
  },
  {
   "cell_type": "markdown",
   "metadata": {},
   "source": [
    "This exercise is divided into two parts\n",
    "1. <b>Developer Trace Analysis</b>: This part covers the trace generation, understandig of the service calls and their dependencies\n",
    "2. <b>Operator Trace Analysis</b>: This part covers the analysis of traces for detection of Anomalies."
   ]
  },
  {
   "cell_type": "markdown",
   "metadata": {},
   "source": [
    "## Developer Trace Analysis"
   ]
  },
  {
   "cell_type": "markdown",
   "metadata": {},
   "source": [
    "### 1. Trace Generation\n",
    "1. Run the Openstack with either Redis or Jaeger trace collection\n",
    "2. After the openstack has started, create an instance inside it as mentioned in the previous exercise but with the option <b>--os-profile SECRET_KEY </b>\n",
    "3. Now If you have used:\n",
    "<ul>\n",
    "    <li>\n",
    "        <b>For Redis:</b>\n",
    "        <br>\n",
    "            Get the HTML version of trace with the following command: \n",
    "        <br>\n",
    "            <code>osprofiler trace show --connection-string redis://localhost:6379 --html <b>trace-id</b> --out trace.html</code>\n",
    "    </li>\n",
    "    <li>\n",
    "    <b>For Jaeger: </b>\n",
    "    <br>\n",
    "    Go to its UI at http://VM_IP:16686 and search for that trace using the shortned trace ID\n",
    "    </li>\n",
    "</ul>"
   ]
  },
  {
   "cell_type": "markdown",
   "metadata": {},
   "source": [
    "### 2. Trace Understanding\n",
    "Now the trace has been generated, understand it carefully and answer the following questions\n"
   ]
  },
  {
   "cell_type": "markdown",
   "metadata": {},
   "source": [
    "<b>Question 1: \n",
    "    Which project and service took most of the time for completion of the request ? </b>"
   ]
  },
  {
   "cell_type": "markdown",
   "metadata": {},
   "source": [
    "Answer: <br> \n",
    "<b>Project:</b> \t\n",
    "<b>Service:</b> "
   ]
  },
  {
   "cell_type": "markdown",
   "metadata": {},
   "source": [
    "<b>Question 2: What is the first request path triggered when you the Create instance is triggered ?</b>"
   ]
  },
  {
   "cell_type": "markdown",
   "metadata": {},
   "source": [
    "Answer: "
   ]
  },
  {
   "cell_type": "markdown",
   "metadata": {},
   "source": [
    "Question 3: Give the sequence of the Projects being triggered (All till level 2 and including level 2)\n",
    "[Add to sequence only if there is change from the previous]"
   ]
  },
  {
   "cell_type": "markdown",
   "metadata": {},
   "source": [
    "Answer: \n",
    "    keystone,..."
   ]
  },
  {
   "cell_type": "markdown",
   "metadata": {},
   "source": [
    "## Operator Trace Analysis\n",
    "1. Here the already generated traces would be analyzed for any anomalies.\n",
    "2. There are 147 total number of traces for the Volume Creation API request hosted on a MongoDB instance.\n",
    "3. Out of These Traces, few of them are Anomalous and your task would be find those Anomalous traces using the method discussed below."
   ]
  },
  {
   "cell_type": "markdown",
   "metadata": {},
   "source": [
    "Look for \n",
    "\n",
    "##############################################################################\n",
    "#    TODO    \n",
    "##############################################################################"
   ]
  },
  {
   "cell_type": "markdown",
   "metadata": {},
   "source": [
    "Check for the imports whether they are present on your machine or not otherwise install them using \n",
    "<code>pip install package-name</code>\n",
    "   "
   ]
  },
  {
   "cell_type": "code",
   "execution_count": 2,
   "metadata": {},
   "outputs": [],
   "source": [
    "##necessary imports\n",
    "\n",
    "from pymongo import MongoClient\n",
    "from pandas.io.json import json_normalize\n",
    "import pandas as pd\n",
    "import numpy as np\n",
    "import pylab\n",
    "import seaborn as sns\n",
    "import matplotlib.pyplot as plt\n",
    "from scipy import stats\n",
    "from pylab import rcParams\n",
    "rcParams['figure.figsize'] = 15, 6\n",
    "from scipy.stats.distributions import norm"
   ]
  },
  {
   "cell_type": "markdown",
   "metadata": {},
   "source": [
    "Connect to remote MongoDb "
   ]
  },
  {
   "cell_type": "code",
   "execution_count": 3,
   "metadata": {},
   "outputs": [],
   "source": [
    "mongoclient = MongoClient('34.90.254.95', 27017,username='ccsTraces',password='CCSTracesAnalysis54!3', authSource='traces')"
   ]
  },
  {
   "cell_type": "markdown",
   "metadata": {},
   "source": [
    "Get the traces from mongodb into Pandas Dataframe and remove the fields which are not required"
   ]
  },
  {
   "cell_type": "code",
   "execution_count": 4,
   "metadata": {},
   "outputs": [],
   "source": [
    "db = mongoclient['traces']\n",
    "datapoints = list(db.volume_create.find({}))"
   ]
  },
  {
   "cell_type": "code",
   "execution_count": 5,
   "metadata": {},
   "outputs": [],
   "source": [
    "dfMongo = json_normalize(datapoints)\n",
    "dfMongo = dfMongo.drop(['children','info.name',  'stats.driver.count', 'stats.rpc.count','stats.wsgi.count','_id', \n",
    "                        'info.started' ], axis=1)\n",
    "dfMongo = dfMongo[np.isfinite(dfMongo['info.finished'])]"
   ]
  },
  {
   "cell_type": "code",
   "execution_count": 6,
   "metadata": {},
   "outputs": [
    {
     "data": {
      "text/html": [
       "<div>\n",
       "<style scoped>\n",
       "    .dataframe tbody tr th:only-of-type {\n",
       "        vertical-align: middle;\n",
       "    }\n",
       "\n",
       "    .dataframe tbody tr th {\n",
       "        vertical-align: top;\n",
       "    }\n",
       "\n",
       "    .dataframe thead th {\n",
       "        text-align: right;\n",
       "    }\n",
       "</style>\n",
       "<table border=\"1\" class=\"dataframe\">\n",
       "  <thead>\n",
       "    <tr style=\"text-align: right;\">\n",
       "      <th></th>\n",
       "      <th>info.last_trace_started</th>\n",
       "      <th>info.finished</th>\n",
       "      <th>stats.rpc.duration</th>\n",
       "      <th>stats.driver.duration</th>\n",
       "      <th>stats.wsgi.duration</th>\n",
       "    </tr>\n",
       "  </thead>\n",
       "  <tbody>\n",
       "    <tr>\n",
       "      <td>0</td>\n",
       "      <td>1165</td>\n",
       "      <td>3825</td>\n",
       "      <td>3377</td>\n",
       "      <td>1293.0</td>\n",
       "      <td>480</td>\n",
       "    </tr>\n",
       "    <tr>\n",
       "      <td>1</td>\n",
       "      <td>839</td>\n",
       "      <td>1661</td>\n",
       "      <td>1188</td>\n",
       "      <td>783.0</td>\n",
       "      <td>459</td>\n",
       "    </tr>\n",
       "    <tr>\n",
       "      <td>2</td>\n",
       "      <td>652</td>\n",
       "      <td>1574</td>\n",
       "      <td>1308</td>\n",
       "      <td>884.0</td>\n",
       "      <td>290</td>\n",
       "    </tr>\n",
       "    <tr>\n",
       "      <td>3</td>\n",
       "      <td>830</td>\n",
       "      <td>1207</td>\n",
       "      <td>676</td>\n",
       "      <td>336.0</td>\n",
       "      <td>594</td>\n",
       "    </tr>\n",
       "    <tr>\n",
       "      <td>4</td>\n",
       "      <td>289</td>\n",
       "      <td>384</td>\n",
       "      <td>95</td>\n",
       "      <td>NaN</td>\n",
       "      <td>345</td>\n",
       "    </tr>\n",
       "  </tbody>\n",
       "</table>\n",
       "</div>"
      ],
      "text/plain": [
       "   info.last_trace_started  info.finished  stats.rpc.duration  \\\n",
       "0                     1165           3825                3377   \n",
       "1                      839           1661                1188   \n",
       "2                      652           1574                1308   \n",
       "3                      830           1207                 676   \n",
       "4                      289            384                  95   \n",
       "\n",
       "   stats.driver.duration  stats.wsgi.duration  \n",
       "0                 1293.0                  480  \n",
       "1                  783.0                  459  \n",
       "2                  884.0                  290  \n",
       "3                  336.0                  594  \n",
       "4                    NaN                  345  "
      ]
     },
     "execution_count": 6,
     "metadata": {},
     "output_type": "execute_result"
    }
   ],
   "source": [
    "dfMongo.head()"
   ]
  },
  {
   "cell_type": "markdown",
   "metadata": {},
   "source": [
    "We are only focussed in this exercise for the total duration which is <b>info.finished</b>"
   ]
  },
  {
   "cell_type": "markdown",
   "metadata": {},
   "source": [
    "### Histogram vs KDE\n",
    "A common task in statistics is to estimate the probability density function (PDF) of a random variable \n",
    "from a set of data samples. This task is called density estimation. The most well-known tool to do this\n",
    "is the histogram. A histogram is a useful tool for visualization (mainly because everyone understands it),\n",
    "but doesn’t use the available data very efficiently. Kernel density estimation (KDE) is a more efficient\n",
    "tool for the same task. The gaussian_kde estimator can be used to estimate the PDF of univariate as well \n",
    "as multivariate data or sklearn library can be used"
   ]
  },
  {
   "cell_type": "code",
   "execution_count": 7,
   "metadata": {},
   "outputs": [
    {
     "data": {
      "text/plain": [
       "<matplotlib.axes._subplots.AxesSubplot at 0x7fadc8c58690>"
      ]
     },
     "execution_count": 7,
     "metadata": {},
     "output_type": "execute_result"
    },
    {
     "data": {
      "image/png": "[encoded data removed]",
      "text/plain": [
       "<Figure size 1080x432 with 1 Axes>"
      ]
     },
     "metadata": {
      "needs_background": "light"
     },
     "output_type": "display_data"
    }
   ],
   "source": [
    "sns.distplot(dfMongo['info.finished'],hist=True, norm_hist=False,kde=False,\n",
    "                    kde_kws={\"color\": \"k\", \"lw\": 3, \"label\": \"KDE\"},\n",
    "                   hist_kws={\"histtype\": \"step\", \"linewidth\": 3, \"alpha\": 1, \"color\": \"g\"})"
   ]
  },
  {
   "cell_type": "markdown",
   "metadata": {},
   "source": [
    "### Forming the KDE and PDF"
   ]
  },
  {
   "cell_type": "code",
   "execution_count": 8,
   "metadata": {},
   "outputs": [],
   "source": [
    "totalDurationArr = dfMongo['info.finished']"
   ]
  },
  {
   "cell_type": "code",
   "execution_count": 9,
   "metadata": {},
   "outputs": [],
   "source": [
    "from sklearn.neighbors import KernelDensity\n",
    "from scipy.stats import gaussian_kde\n",
    "from statsmodels.nonparametric.kde import KDEUnivariate\n",
    "from statsmodels.nonparametric.kernel_density import KDEMultivariate\n",
    "\n",
    "\n",
    "def kde_scipy(x, x_grid, bandwidth=0.2, **kwargs):\n",
    "    \"\"\"Kernel Density Estimation with Scipy\"\"\"\n",
    "    # Note that scipy weights its bandwidth by the covariance of the\n",
    "    # input data.  To make the results comparable to the other methods,\n",
    "    # we divide the bandwidth by the sample standard deviation here.\n",
    "    kde = gaussian_kde(x, bw_method=bandwidth / x.std(ddof=1), **kwargs)\n",
    "    return kde.evaluate(x_grid)\n",
    "\n",
    "def kde_sklearn(x, x_grid, bandwidth=0.2, **kwargs):\n",
    "    \"\"\"Kernel Density Estimation with Scikit-learn\"\"\"\n",
    "    kde_skl = KernelDensity(bandwidth=bandwidth, **kwargs)\n",
    "    kde_skl.fit(x[:, np.newaxis])\n",
    "    # score_samples() returns the log-likelihood of the samples\n",
    "    log_pdf = kde_skl.score_samples(x_grid[:, np.newaxis])\n",
    "    return np.exp(log_pdf)\n",
    "\n",
    "\n",
    "kde_funcs = [ kde_scipy, kde_sklearn]\n",
    "kde_funcnames = [ 'Scipy', 'Scikit-learn']\n"
   ]
  },
  {
   "cell_type": "markdown",
   "metadata": {},
   "source": [
    "Finding the best bandwidth suited for forming the KDE taken in consideration all values from 10^(-1) to 10^(3) using GridSearchCV"
   ]
  },
  {
   "cell_type": "code",
   "execution_count": 10,
   "metadata": {},
   "outputs": [
    {
     "data": {
      "text/plain": [
       "{'bandwidth': 170.9529944234296}"
      ]
     },
     "execution_count": 10,
     "metadata": {},
     "output_type": "execute_result"
    }
   ],
   "source": [
    "from sklearn.model_selection import GridSearchCV\n",
    "from sklearn.model_selection import LeaveOneOut\n",
    "\n",
    "bandwidths = 10 ** np.linspace(-1, 3, len(totalDurationArr))\n",
    "grid = GridSearchCV(KernelDensity(kernel='gaussian'),\n",
    "                    {'bandwidth': bandwidths},\n",
    "                    cv=LeaveOneOut())\n",
    "grid.fit(totalDurationArr[:, None]);\n",
    "grid.best_params_"
   ]
  },
  {
   "cell_type": "code",
   "execution_count": 11,
   "metadata": {},
   "outputs": [
    {
     "data": {
      "image/png": "[encoded data removed]",
      "text/plain": [
       "<Figure size 1080x432 with 1 Axes>"
      ]
     },
     "metadata": {
      "needs_background": "light"
     },
     "output_type": "display_data"
    }
   ],
   "source": [
    "# The grid we'll use for plotting\n",
    "totalDurationArr_grid = np.linspace(totalDurationArr.min(),totalDurationArr.max(), len(totalDurationArr))\n",
    "i=0\n",
    "pdf = kde_funcs[i](totalDurationArr, totalDurationArr_grid, bandwidth=grid.best_params_['bandwidth'])\n",
    "plt.plot(totalDurationArr_grid, pdf, color='blue', alpha=0.5, lw=3)\n",
    "plt.title(\"KDE plot for the Data\")\n",
    "plt.xlabel(\"Duration in Seconds\")\n",
    "plt.grid(True)"
   ]
  },
  {
   "cell_type": "markdown",
   "metadata": {},
   "source": [
    "## Statistical analysis. "
   ]
  },
  {
   "cell_type": "markdown",
   "metadata": {},
   "source": [
    "### Z-Score\n",
    "The Z-score, or standard score, is a way of describing a data point in terms of its relationship to the mean and \n",
    "standard deviation of a group of points.\n",
    "The intuition behind the Z-score method of outlier detection is that, once we’ve centred and rescaled the data,\n",
    "anything that is too far from zero (the threshold is usually a Z-score of 3 or -3) should be considered an outlier."
   ]
  },
  {
   "cell_type": "code",
   "execution_count": 12,
   "metadata": {},
   "outputs": [],
   "source": [
    "def outliers_z_score(ys):\n",
    "    threshold = 3\n",
    "##############################################################################\n",
    "#    TODO\n",
    "#    Calculate Z-Scores here \n",
    "##############################################################################\n",
    "    mean_y = None\n",
    "    stdev_y = None\n",
    "    z_scores = None\n",
    "    return np.where(np.abs(z_scores) > threshold), z_scores, mean_y, stdev_y"
   ]
  },
  {
   "cell_type": "code",
   "execution_count": null,
   "metadata": {},
   "outputs": [],
   "source": [
    "aa, z_scores, mean, stdev = outliers_z_score(dfMongo['info.finished'].values)\n",
    "print(\"Mean =\", mean, \"Stdev = \", stdev)\n",
    "print(\"Total Anomalies Detected: \", len(aa[0]))\n",
    "for i in range(len(aa[0])):\n",
    "    print (\"Index = \",aa[0][i], \",Value = \", dfMongo['info.finished'][aa[0][i]], \", Z-Score=\",z_scores[aa[0][i]]  )"
   ]
  },
  {
   "cell_type": "markdown",
   "metadata": {},
   "source": [
    "### Modified Z-Score\n",
    "The Z-score method relies on the mean and standard deviation of a group of data to measure central tendency and dispersion.\n",
    "This is troublesome, because the mean and standard deviation are highly affected by outliers – they are not robust.\n",
    "\n",
    "Another drawback of the Z-score method is that it behaves strangely in small datasets – in fact, the Z-score method will \n",
    "never detect an outlier if the dataset has fewer than 12 items in it.\n",
    "\n",
    "A further benefit of the modified Z-score method is that it uses the median and MAD rather than the mean and standard deviation.\n",
    "The median and MAD are robust measures of central tendency and dispersion, respectively."
   ]
  },
  {
   "cell_type": "code",
   "execution_count": 13,
   "metadata": {},
   "outputs": [],
   "source": [
    "def outliers_modified_z_score(ys):\n",
    "    threshold = 3\n",
    "##############################################################################\n",
    "#    TODO\n",
    "#    Calculate Modified Z-Scores here \n",
    "##############################################################################\n",
    "    median_y = None\n",
    "    median_absolute_deviation_y = None\n",
    "    modified_z_scores = None\n",
    "    return np.where(np.abs(modified_z_scores) > threshold), modified_z_scores, median_y, median_absolute_deviation_y"
   ]
  },
  {
   "cell_type": "code",
   "execution_count": null,
   "metadata": {},
   "outputs": [],
   "source": [
    "aa, z_scores, median, mad = outliers_modified_z_score(dfMongo['info.finished'].values)"
   ]
  },
  {
   "cell_type": "code",
   "execution_count": null,
   "metadata": {},
   "outputs": [],
   "source": [
    "aa, z_scores, median, mad = outliers_modified_z_score(dfMongo['info.finished'].values)\n",
    "print(\"Total Anomalies Detected: \", len(aa[0]))\n",
    "print(\"Median =\", median, \"MAD = \", mad)\n",
    "for i in range(len(aa[0])):\n",
    "    print (\"Index = \",aa[0][i], \",Value = \", dfMongo['info.finished'][aa[0][i]], \", Modified Z-Score=\",z_scores[aa[0][i]]  )"
   ]
  },
  {
   "cell_type": "markdown",
   "metadata": {},
   "source": [
    "### IQR method\n",
    "Another robust method for labeling outliers is the IQR (interquartile range) method of outlier detection.\n",
    "A box-and-whisker plot uses quartiles (points that divide the data into four groups of equal size) to plot the shape of the data. The box represents the 1st and 3rd quartiles, which are equal to the 25th and 75th percentiles. The line inside the box represents the 2nd quartile, which is the median.\n",
    "The interquartile range, which gives this method of outlier detection its name, is the range between the first and the third quartiles (the edges of the box). "
   ]
  },
  {
   "cell_type": "code",
   "execution_count": 14,
   "metadata": {},
   "outputs": [],
   "source": [
    "def outliers_iqr(ys):\n",
    "    quartile_1, quartile_3 = np.percentile(ys, [25, 75])\n",
    "##############################################################################\n",
    "#    TODO\n",
    "#    Calculate IQR here \n",
    "##############################################################################\n",
    "    iqr = None\n",
    "    lower_bound = None\n",
    "    upper_bound = None\n",
    "    return np.where((ys > upper_bound) | (ys < lower_bound))"
   ]
  },
  {
   "cell_type": "code",
   "execution_count": null,
   "metadata": {},
   "outputs": [],
   "source": [
    "aa = outliers_iqr(dfMongo['info.finished'].values)\n",
    "print(\"Total Anomalies Detected: \", len(aa[0]))\n",
    "for i in range(len(aa[0])):\n",
    "    print (\"Index = \",aa[0][i], \",Value = \", dfMongo['info.finished'][aa[0][i]] )"
   ]
  },
  {
   "cell_type": "markdown",
   "metadata": {},
   "source": [
    "<b>Question : Which method was able to detect the most of the anomalus traces? </b>"
   ]
  },
  {
   "cell_type": "markdown",
   "metadata": {},
   "source": [
    "## <p style=\"color:red\">.... was able to detect most of the anomalies</p>"
   ]
  },
  {
   "cell_type": "markdown",
   "metadata": {},
   "source": [
    "## Optional: Clustering using DBSCAN"
   ]
  },
  {
   "cell_type": "markdown",
   "metadata": {},
   "source": [
    "Can Clustering be able to detect the Anomalies"
   ]
  },
  {
   "cell_type": "code",
   "execution_count": null,
   "metadata": {},
   "outputs": [],
   "source": [
    "from sklearn.cluster import DBSCAN\n",
    "from sklearn import metrics\n",
    "from sklearn.datasets.samples_generator import make_blobs\n",
    "from sklearn.preprocessing import StandardScaler\n",
    "\n",
    "\n",
    "X =totalDurationArr.values.reshape(-1, 1)\n",
    "\n",
    "X = StandardScaler().fit_transform(X)\n",
    "\n",
    "\n",
    "##############################################################################\n",
    "#    TODO\n",
    "#    Compute DBSCAN\n",
    "##############################################################################\n",
    "\n",
    "\n",
    "#print('Estimated number of clusters: %d' %n_clusters_ )\n",
    "#print('Estimated number of noise points: %d' %n_noise_ )\n",
    "#print(\"Silhouette Coefficient: %0.3f\" % metrics.silhouette_score(X, labels))"
   ]
  },
  {
   "cell_type": "code",
   "execution_count": null,
   "metadata": {},
   "outputs": [],
   "source": [
    "# #############################################################################\n",
    "# Plot result\n",
    "import matplotlib.pyplot as plt\n",
    "\n",
    "# Black removed and is used for noise instead.\n",
    "unique_labels = set(labels)\n",
    "colors = [plt.cm.Spectral(each)\n",
    "          for each in np.linspace(0, 1, len(unique_labels))]\n",
    "\n",
    "##############################################################################\n",
    "#    TODO\n",
    "#    Plot Result\n",
    "##############################################################################\n",
    "    \n",
    "    \n",
    "plt.legend()\n",
    "#plt.title('Estimated number of clusters: %d' % n_clusters_)\n",
    "plt.show()"
   ]
  },
  {
   "cell_type": "markdown",
   "metadata": {},
   "source": [
    "<b>Question : Was the result of Clustering same as that of above methods?</b>"
   ]
  },
  {
   "cell_type": "markdown",
   "metadata": {},
   "source": [
    "Answer: yes/No and why?"
   ]
  }
 ],
 "metadata": {
  "kernelspec": {
   "display_name": "Python 3",
   "language": "python",
   "name": "python3"
  },
  "language_info": {
   "codemirror_mode": {
    "name": "ipython",
    "version": 3
   },
   "file_extension": ".py",
   "mimetype": "text/x-python",
   "name": "python",
   "nbconvert_exporter": "python",
   "pygments_lexer": "ipython3",
   "version": "3.7.4"
  }
 },
 "nbformat": 4,
 "nbformat_minor": 2
}
